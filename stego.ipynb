{
 "cells": [
  {
   "cell_type": "code",
   "execution_count": 3,
   "id": "af98daa6",
   "metadata": {},
   "outputs": [
    {
     "name": "stdout",
     "output_type": "stream",
     "text": [
      "Enter secert message good smile\n",
      "Enter password 123\n",
      "Enter passcode for Decryption 123\n",
      "Decryption message  good smile\n"
     ]
    }
   ],
   "source": [
    "import cv2\n",
    "import os\n",
    "import string\n",
    "\n",
    "img = cv2.imread(\"smile.jpeg\")\n",
    "\n",
    "msg = input(\"Enter secert message\")\n",
    "\n",
    "password = input(\"Enter password\")\n",
    "\n",
    "d={}\n",
    "c={}\n",
    "\n",
    "for i in range(255):\n",
    "    d[chr(i)]=i\n",
    "    c[i] = chr(i)\n",
    "\n",
    "m=0\n",
    "n=0\n",
    "z=0\n",
    "\n",
    "for i in range(len(msg)):\n",
    "    img[n,m,z] = d[msg[i]]\n",
    "    n=n+1\n",
    "    m=m+1\n",
    "    z=(z+1)%3\n",
    "\n",
    "cv2.imwrite(\"Encryptedmsg.jpg\",img)\n",
    "\n",
    "os.system(\"start Encryptedmsg.jpg\")\n",
    "\n",
    "\n",
    "message =\"\"\n",
    "\n",
    "n=0\n",
    "m=0\n",
    "z=0\n",
    "\n",
    "pas = input(\"Enter passcode for Decryption\")\n",
    "\n",
    "if password == pas:\n",
    "    for i in range(len(msg)):\n",
    "        message = message + c[img[n,m,z]]\n",
    "        n=n+1\n",
    "        m=m+1\n",
    "        z=(z+1) % 3\n",
    "    print(\"Decryption message\",message)\n",
    "else:\n",
    "    print(\"Not valid key\")\n"
   ]
  },
  {
   "cell_type": "code",
   "execution_count": null,
   "id": "913f4d6a",
   "metadata": {},
   "outputs": [],
   "source": []
  },
  {
   "cell_type": "code",
   "execution_count": null,
   "id": "3b727c56",
   "metadata": {},
   "outputs": [],
   "source": []
  }
 ],
 "metadata": {
  "kernelspec": {
   "display_name": "Python 3 (ipykernel)",
   "language": "python",
   "name": "python3"
  },
  "language_info": {
   "codemirror_mode": {
    "name": "ipython",
    "version": 3
   },
   "file_extension": ".py",
   "mimetype": "text/x-python",
   "name": "python",
   "nbconvert_exporter": "python",
   "pygments_lexer": "ipython3",
   "version": "3.9.13"
  }
 },
 "nbformat": 4,
 "nbformat_minor": 5
}
